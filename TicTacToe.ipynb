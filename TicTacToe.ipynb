{
 "cells": [
  {
   "cell_type": "markdown",
   "metadata": {},
   "source": [
    "# Tic Toc Toe Game"
   ]
  },
  {
   "cell_type": "code",
   "execution_count": 1,
   "metadata": {},
   "outputs": [],
   "source": [
    "from TicTacToe import Game"
   ]
  },
  {
   "cell_type": "markdown",
   "metadata": {},
   "source": [
    "## Possible Commands"
   ]
  },
  {
   "cell_type": "markdown",
   "metadata": {},
   "source": [
    "### Making a Game\n",
    "\n",
    "n is required the rest are optional, shown are the default values."
   ]
  },
  {
   "cell_type": "code",
   "execution_count": 2,
   "metadata": {},
   "outputs": [],
   "source": [
    "G = Game(n=3, first='X', boarder=\"#\")"
   ]
  },
  {
   "cell_type": "markdown",
   "metadata": {},
   "source": [
    "### Movements\n",
    "\n",
    "-show flag allows you to print the board with each move, not required\n",
    "\n",
    "Valid moves will return true. Invalid moves will return false"
   ]
  },
  {
   "cell_type": "code",
   "execution_count": 3,
   "metadata": {},
   "outputs": [
    {
     "name": "stdout",
     "output_type": "stream",
     "text": [
      "Player O Turn\n"
     ]
    },
    {
     "data": {
      "text/plain": [
       "True"
      ]
     },
     "execution_count": 3,
     "metadata": {},
     "output_type": "execute_result"
    }
   ],
   "source": [
    "G.move(row=0, col=0, show=False)"
   ]
  },
  {
   "cell_type": "code",
   "execution_count": 4,
   "metadata": {},
   "outputs": [
    {
     "name": "stdout",
     "output_type": "stream",
     "text": [
      "Current Player: O\n",
      "Positions played: 1\n",
      "Open spots: 8\n",
      "\n",
      "Current Game Board\n",
      "    0 1 2\n",
      "  # # # # # \n",
      "0 # X - - #\n",
      "1 # - - - #\n",
      "2 # - - - #\n",
      "  # # # # # \n",
      "\n"
     ]
    }
   ],
   "source": [
    "print(G)"
   ]
  },
  {
   "cell_type": "code",
   "execution_count": 5,
   "metadata": {},
   "outputs": [
    {
     "name": "stdout",
     "output_type": "stream",
     "text": [
      "    0 1 2\n",
      "  # # # # # \n",
      "0 # X - - #\n",
      "1 # - - - #\n",
      "2 # - - - #\n",
      "  # # # # # \n",
      "\n"
     ]
    }
   ],
   "source": [
    "print(G.Board)"
   ]
  },
  {
   "cell_type": "code",
   "execution_count": 6,
   "metadata": {},
   "outputs": [
    {
     "data": {
      "text/plain": [
       "False"
      ]
     },
     "execution_count": 6,
     "metadata": {},
     "output_type": "execute_result"
    }
   ],
   "source": [
    "G.isgameover()"
   ]
  },
  {
   "cell_type": "code",
   "execution_count": 7,
   "metadata": {},
   "outputs": [
    {
     "data": {
      "text/plain": [
       "False"
      ]
     },
     "execution_count": 7,
     "metadata": {},
     "output_type": "execute_result"
    }
   ],
   "source": [
    "G.winner()"
   ]
  },
  {
   "cell_type": "code",
   "execution_count": 8,
   "metadata": {},
   "outputs": [
    {
     "data": {
      "text/plain": [
       "False"
      ]
     },
     "execution_count": 8,
     "metadata": {},
     "output_type": "execute_result"
    }
   ],
   "source": [
    "G.istie()"
   ]
  },
  {
   "cell_type": "markdown",
   "metadata": {},
   "source": [
    "### Winner for Column X"
   ]
  },
  {
   "cell_type": "code",
   "execution_count": 9,
   "metadata": {},
   "outputs": [
    {
     "name": "stdout",
     "output_type": "stream",
     "text": [
      "Player O Turn\n",
      "Player X Turn\n",
      "Player O Turn\n",
      "Player X Turn\n",
      "Player O Turn\n",
      "Player X Turn\n",
      "Player X wins!\n"
     ]
    },
    {
     "data": {
      "text/plain": [
       "Current Player: X\n",
       "Positions played: 7\n",
       "Open spots: 9\n",
       "\n",
       "Current Game Board\n",
       "    0 1 2 3\n",
       "  # # # # # # \n",
       "0 # X O O - #\n",
       "1 # X - - - #\n",
       "2 # X O - - #\n",
       "3 # X - - - #\n",
       "  # # # # # # \n",
       "\n",
       "\n",
       "The Game is over and player X has won!"
      ]
     },
     "execution_count": 9,
     "metadata": {},
     "output_type": "execute_result"
    }
   ],
   "source": [
    "G = Game(4)\n",
    "\n",
    "G.move(0,0)\n",
    "G.move(0,1)\n",
    "G.move(1,0)\n",
    "G.move(0,2)\n",
    "G.move(2,0)\n",
    "G.move(2,1)\n",
    "G.move(3,0)\n",
    "\n",
    "G"
   ]
  },
  {
   "cell_type": "markdown",
   "metadata": {},
   "source": [
    "### Animation \n",
    "Once the game is completed you can animate the board played.\n",
    "Also all moves are captured in the games board `board_progression`"
   ]
  },
  {
   "cell_type": "code",
   "execution_count": 10,
   "metadata": {},
   "outputs": [
    {
     "name": "stdout",
     "output_type": "stream",
     "text": [
      "    0 1 2 3\n",
      "  # # # # # # \n",
      "0 # X O O - #\n",
      "1 # X - - - #\n",
      "2 # X O - - #\n",
      "3 # X - - - #\n",
      "  # # # # # # \n",
      "\n"
     ]
    }
   ],
   "source": [
    "G.animate_game()"
   ]
  },
  {
   "cell_type": "code",
   "execution_count": 14,
   "metadata": {},
   "outputs": [
    {
     "name": "stdout",
     "output_type": "stream",
     "text": [
      "Number of board progression moves: 7\n",
      "\n",
      "    0 1 2 3\n",
      "  # # # # # # \n",
      "0 # X O O - #\n",
      "1 # X - - - #\n",
      "2 # - - - - #\n",
      "3 # - - - - #\n",
      "  # # # # # # \n",
      "\n"
     ]
    }
   ],
   "source": [
    "print(\"Number of board progression moves: \" +str(len(G.board_progression))+ \"\\n\")\n",
    "\n",
    "print(G.board_progression[3])"
   ]
  },
  {
   "cell_type": "markdown",
   "metadata": {},
   "source": [
    "## Machine Learning\n",
    "\n",
    "Section coming"
   ]
  },
  {
   "cell_type": "code",
   "execution_count": null,
   "metadata": {},
   "outputs": [],
   "source": []
  },
  {
   "cell_type": "code",
   "execution_count": null,
   "metadata": {},
   "outputs": [],
   "source": []
  },
  {
   "cell_type": "code",
   "execution_count": null,
   "metadata": {},
   "outputs": [],
   "source": []
  },
  {
   "cell_type": "code",
   "execution_count": null,
   "metadata": {},
   "outputs": [],
   "source": []
  },
  {
   "cell_type": "markdown",
   "metadata": {},
   "source": [
    "## Testing of Conditions"
   ]
  },
  {
   "cell_type": "markdown",
   "metadata": {},
   "source": [
    "### X Wins Col"
   ]
  },
  {
   "cell_type": "code",
   "execution_count": 9,
   "metadata": {},
   "outputs": [
    {
     "name": "stdout",
     "output_type": "stream",
     "text": [
      "Player O Turn\n",
      "Player X Turn\n",
      "Player O Turn\n",
      "Player X Turn\n",
      "Player O Turn\n",
      "Player X Turn\n",
      "Player X wins!\n"
     ]
    },
    {
     "data": {
      "text/plain": [
       "Current Player: X\n",
       "Positions played: 7\n",
       "Open spots: 9\n",
       "\n",
       "Current Game Board\n",
       "    0 1 2 3\n",
       "  # # # # # # \n",
       "0 # X O O - #\n",
       "1 # X - - - #\n",
       "2 # X O - - #\n",
       "3 # X - - - #\n",
       "  # # # # # # \n",
       "\n",
       "\n",
       "The Game is over and player X has won!"
      ]
     },
     "execution_count": 9,
     "metadata": {},
     "output_type": "execute_result"
    }
   ],
   "source": [
    "G = Game(4)\n",
    "\n",
    "G.move(0,0)\n",
    "G.move(0,1)\n",
    "G.move(1,0)\n",
    "G.move(0,2)\n",
    "G.move(2,0)\n",
    "G.move(2,1)\n",
    "G.move(3,0)\n",
    "\n",
    "G\n"
   ]
  },
  {
   "cell_type": "markdown",
   "metadata": {},
   "source": [
    "### X Wins Row"
   ]
  },
  {
   "cell_type": "code",
   "execution_count": 10,
   "metadata": {},
   "outputs": [
    {
     "name": "stdout",
     "output_type": "stream",
     "text": [
      "\n",
      "\n",
      "    0 1 2\n",
      "  # # # # # \n",
      "0 # - - - #\n",
      "1 # - - - #\n",
      "2 # - - - #\n",
      "  # # # # # \n",
      "\n",
      "Player O Turn\n",
      "Player X Turn\n",
      "Player O Turn\n",
      "Player X Turn\n",
      "Player X wins!\n",
      "\n",
      "\n",
      "    0 1 2\n",
      "  # # # # # \n",
      "0 # X X X #\n",
      "1 # - O O #\n",
      "2 # - - - #\n",
      "  # # # # # \n",
      "\n"
     ]
    }
   ],
   "source": [
    "G = Game(3)\n",
    "G.show()\n",
    "\n",
    "G.move(0,0)\n",
    "G.move(1,1)\n",
    "G.move(0,1)\n",
    "G.move(1,2)\n",
    "G.move(0,2)\n",
    "\n",
    "\n",
    "G.show()"
   ]
  },
  {
   "cell_type": "markdown",
   "metadata": {},
   "source": [
    "### X Wins Diagonal"
   ]
  },
  {
   "cell_type": "code",
   "execution_count": 11,
   "metadata": {},
   "outputs": [
    {
     "name": "stdout",
     "output_type": "stream",
     "text": [
      "\n",
      "\n",
      "    0 1 2 3\n",
      "  # # # # # # \n",
      "0 # - - - - #\n",
      "1 # - - - - #\n",
      "2 # - - - - #\n",
      "3 # - - - - #\n",
      "  # # # # # # \n",
      "\n",
      "Player O Turn\n",
      "Player X Turn\n",
      "Player O Turn\n",
      "Player X Turn\n",
      "Player O Turn\n",
      "Player X Turn\n",
      "Player X wins!\n",
      "\n",
      "\n",
      "    0 1 2 3\n",
      "  # # # # # # \n",
      "0 # X O - O #\n",
      "1 # O X - - #\n",
      "2 # - - X - #\n",
      "3 # - - - X #\n",
      "  # # # # # # \n",
      "\n"
     ]
    },
    {
     "data": {
      "text/plain": [
       "Current Player: X\n",
       "Positions played: 7\n",
       "Open spots: 9\n",
       "\n",
       "Current Game Board\n",
       "    0 1 2 3\n",
       "  # # # # # # \n",
       "0 # X O - O #\n",
       "1 # O X - - #\n",
       "2 # - - X - #\n",
       "3 # - - - X #\n",
       "  # # # # # # \n",
       "\n",
       "\n",
       "The Game is over and player X has won!"
      ]
     },
     "execution_count": 11,
     "metadata": {},
     "output_type": "execute_result"
    }
   ],
   "source": [
    "G = Game(4)\n",
    "G.show()\n",
    "\n",
    "G.move(0,0)\n",
    "G.move(0,1)\n",
    "G.move(1,1)\n",
    "G.move(1,0)\n",
    "G.move(2,2)\n",
    "G.move(0,3)\n",
    "G.move(3,3)\n",
    "\n",
    "G.show()\n",
    "G"
   ]
  },
  {
   "cell_type": "markdown",
   "metadata": {},
   "source": [
    "### Game Tie No winner"
   ]
  },
  {
   "cell_type": "code",
   "execution_count": 12,
   "metadata": {},
   "outputs": [
    {
     "name": "stdout",
     "output_type": "stream",
     "text": [
      "\n",
      "\n",
      "    0 1 2\n",
      "  # # # # # \n",
      "0 # - - - #\n",
      "1 # - - - #\n",
      "2 # - - - #\n",
      "  # # # # # \n",
      "\n",
      "Player O Turn\n",
      "Player X Turn\n",
      "Player O Turn\n",
      "Player X Turn\n",
      "Player O Turn\n",
      "Player X Turn\n",
      "Player O Turn\n",
      "Player X Turn\n",
      "TIED!\n",
      "\n",
      "\n",
      "    0 1 2\n",
      "  # # # # # \n",
      "0 # X O X #\n",
      "1 # X O O #\n",
      "2 # O X X #\n",
      "  # # # # # \n",
      "\n"
     ]
    }
   ],
   "source": [
    "G = Game(3)\n",
    "G.show()\n",
    "\n",
    "G.move(0,0)\n",
    "G.move(0,1)\n",
    "G.move(1,0)\n",
    "G.move(1,2)\n",
    "G.move(0,2)\n",
    "G.move(1,1)\n",
    "G.move(2,1)\n",
    "G.move(2,0)\n",
    "G.move(2,2)\n",
    "\n",
    "\n",
    "G.show()"
   ]
  },
  {
   "cell_type": "code",
   "execution_count": 13,
   "metadata": {},
   "outputs": [
    {
     "data": {
      "text/plain": [
       "Current Player: X\n",
       "Positions played: 9\n",
       "Open spots: 0\n",
       "\n",
       "Current Game Board\n",
       "    0 1 2\n",
       "  # # # # # \n",
       "0 # X O X #\n",
       "1 # X O O #\n",
       "2 # O X X #\n",
       "  # # # # # \n",
       "\n",
       "\n",
       "The Game is over and it is Tied "
      ]
     },
     "execution_count": 13,
     "metadata": {},
     "output_type": "execute_result"
    }
   ],
   "source": [
    "G"
   ]
  },
  {
   "cell_type": "code",
   "execution_count": null,
   "metadata": {},
   "outputs": [],
   "source": []
  },
  {
   "cell_type": "code",
   "execution_count": null,
   "metadata": {},
   "outputs": [],
   "source": []
  },
  {
   "cell_type": "code",
   "execution_count": null,
   "metadata": {},
   "outputs": [],
   "source": []
  },
  {
   "cell_type": "code",
   "execution_count": null,
   "metadata": {},
   "outputs": [],
   "source": []
  }
 ],
 "metadata": {
  "kernelspec": {
   "display_name": "Python 3",
   "language": "python",
   "name": "python3"
  },
  "language_info": {
   "codemirror_mode": {
    "name": "ipython",
    "version": 3
   },
   "file_extension": ".py",
   "mimetype": "text/x-python",
   "name": "python",
   "nbconvert_exporter": "python",
   "pygments_lexer": "ipython3",
   "version": "3.6.10"
  }
 },
 "nbformat": 4,
 "nbformat_minor": 4
}
